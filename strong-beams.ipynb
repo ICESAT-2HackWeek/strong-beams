{
 "cells": [
  {
   "cell_type": "markdown",
   "id": "879766a9-70fc-455d-8d80-3b4d46298022",
   "metadata": {},
   "source": [
    "ICESat-2 orientation can be: backward, forward, and transition. During transition, ICESat-2 is maneuvering between the two orientations. Science quality is potentially degraded while in transition mode. (Source: https://nsidc.org/sites/nsidc.org/files/technical-references/ICESat2_ATL03_data_dict_v005.pdf)\n"
   ]
  },
  {
   "cell_type": "markdown",
   "id": "bffa1df3-38f0-4296-8f54-67e8bf660efd",
   "metadata": {},
   "source": [
    "The parameter \"/orbit_info/sc_orient\" in ATL03 denotes the orientation of ICESat-2.\n",
    "\n",
    "0 = backward\n",
    "\n",
    "1 = forward\n",
    "\n",
    "2 = transition"
   ]
  },
  {
   "cell_type": "code",
   "execution_count": 73,
   "id": "769024d5-5a3d-4f5c-bd85-538b8e570612",
   "metadata": {},
   "outputs": [],
   "source": [
    "import h5py\n",
    "import pandas as pd"
   ]
  },
  {
   "cell_type": "markdown",
   "id": "a4fbfd3d-3a29-480e-8fdb-92cf38f103c5",
   "metadata": {},
   "source": [
    "User input: \"strong\" or \"weak\""
   ]
  },
  {
   "cell_type": "code",
   "execution_count": 88,
   "id": "28be40d5-692f-4576-967e-e449562e7528",
   "metadata": {},
   "outputs": [],
   "source": [
    "def which_beam(f, sc_orient, beam='both'):\n",
    "    if beam=='both':\n",
    "        # extracted_beam = \n",
    "        print(\"Subset both beams\")\n",
    "    elif beam=='strong':\n",
    "        extracted_beam = get_strong_beams(f, sc_orient)\n",
    "    elif beam=='weak':\n",
    "        extracted_beam = get_weak_beams(f, sc_orient)\n",
    "    else:\n",
    "        print('Input should be one of the following: \"both\", \"strong\" or \"weak\"')\n",
    "    return extracted_beam"
   ]
  },
  {
   "cell_type": "markdown",
   "id": "96b00683-310d-4732-94c7-5339e8a260ff",
   "metadata": {},
   "source": [
    "Script reads the variable \"/orbit_info/sc_orient\" to determine orientation."
   ]
  },
  {
   "cell_type": "code",
   "execution_count": 75,
   "id": "5cdbf181-6e38-4992-ae1e-0efa7f548ce9",
   "metadata": {},
   "outputs": [],
   "source": [
    "# If input = \"strong\":\n",
    "#     If sc_orient = 0:\n",
    "#         subset gt1l, gt2l, gt3l\n",
    "#     elif sc_orient = 1:\n",
    "#         subset gt1r, gt2r, gt3r\n",
    "#     else:\n",
    "#         print(\"Error: transition phase\"), or other output?"
   ]
  },
  {
   "cell_type": "code",
   "execution_count": 76,
   "id": "750a9ff0-220c-4e7d-a059-e6872313fffd",
   "metadata": {},
   "outputs": [],
   "source": [
    "def get_strong_beams(f, sc_orient):\n",
    "    if sc_orient == 0:\n",
    "        # subset gt1l, gt2l, gt3l\n",
    "        track = 'gt3l' # or 'gt1l', 'gt2l'\n",
    "        strong = pd.DataFrame(data={'lat': f[track + '/sea_ice_segments/latitude'][:],\n",
    "                                  'lon': f[track + '/sea_ice_segments/longitude'][:],\n",
    "                                  'elev': f[track + '/sea_ice_segments/heights/height_segment_height'][:]\n",
    "                                 }\n",
    "                           )\n",
    "    elif sc_orient == 1:\n",
    "        # subset gt1r, gt2r, gt3r\n",
    "        track = 'gt3r' # or 'gt1r', 'gt2r'\n",
    "        strong = pd.DataFrame(data={'lat': f[track + '/sea_ice_segments/latitude'][:],\n",
    "                                  'lon': f[track + '/sea_ice_segments/longitude'][:],\n",
    "                                  'elev': f[track + '/sea_ice_segments/heights/height_segment_height'][:]\n",
    "                                 }\n",
    "                           )\n",
    "    else:\n",
    "        print(\"Error: transition phase\") # or other output?\n",
    "        strong = pd.DataFrame()\n",
    "    return strong"
   ]
  },
  {
   "cell_type": "code",
   "execution_count": 77,
   "id": "c95a2995-c5a2-496f-93b3-a44ad188d75e",
   "metadata": {},
   "outputs": [],
   "source": [
    "# If input = \"weak\":\n",
    "#     If sc_orient = 0:\n",
    "#         subset gt1r, gt2r, gt3r\n",
    "#     elif sc_orient = 1:\n",
    "#         subset gt1l, gt2l, gt3l\n",
    "#     else:\n",
    "#         print(\"Error: transition phase\"), or other output?"
   ]
  },
  {
   "cell_type": "code",
   "execution_count": 87,
   "id": "df5057ba-3f8f-409b-85bd-1e3f7b24f753",
   "metadata": {},
   "outputs": [],
   "source": [
    "def get_weak_beams(f, sc_orient):\n",
    "    if sc_orient == 0:\n",
    "        # subset gt1r, gt2r, gt3r\n",
    "        track = 'gt3r' # or 'gt1r', 'gt2r'\n",
    "        weak = pd.DataFrame(data={'lat': f[track + '/sea_ice_segments/latitude'][:],\n",
    "                                  'lon': f[track + '/sea_ice_segments/longitude'][:],\n",
    "                                  'elev': f[track + '/sea_ice_segments/heights/height_segment_height'][:]\n",
    "                                 }\n",
    "                           )\n",
    "    elif sc_orient == 1:\n",
    "        # subset gt1l, gt2l, gt3l\n",
    "        track = 'gt3l' # or 'gt1l', 'gt2l'\n",
    "        weak = pd.DataFrame(data={'lat': f[track + '/sea_ice_segments/latitude'][:],\n",
    "                                  'lon': f[track + '/sea_ice_segments/longitude'][:],\n",
    "                                  'elev': f[track + '/sea_ice_segments/heights/height_segment_height'][:]\n",
    "                                 }\n",
    "                           )\n",
    "    else:\n",
    "        print(\"Error: transition phase\") # or other output?\n",
    "        weak = pd.DataFrame()\n",
    "    return weak"
   ]
  },
  {
   "cell_type": "markdown",
   "id": "59f82e88-ef2d-466c-93fd-5495e627fc59",
   "metadata": {},
   "source": [
    "Sample data to demonstrate idea (Attached in GitHub repo)"
   ]
  },
  {
   "cell_type": "code",
   "execution_count": 79,
   "id": "7f02b1c0-5afb-455d-a500-789911d6d4f8",
   "metadata": {},
   "outputs": [],
   "source": [
    "is2_file = 'processed_ATL07-01_20210223050453_09351001_005_01.h5'\n",
    "with h5py.File(is2_file, 'r') as f:\n",
    "    is2_gt3r = pd.DataFrame(data={'lat': f['gt3r/sea_ice_segments/latitude'][:],\n",
    "                                  'lon': f['gt3r/sea_ice_segments/longitude'][:],\n",
    "                                  'elev': f['gt3r/sea_ice_segments/heights/height_segment_height'][:]\n",
    "                                 }\n",
    "                           ) \n",
    "    is2_gt3l = pd.DataFrame(data={'lat': f['gt3l/sea_ice_segments/latitude'][:],\n",
    "                                  'lon': f['gt3l/sea_ice_segments/longitude'][:],\n",
    "                                  'elev': f['gt3l/sea_ice_segments/heights/height_segment_height'][:]\n",
    "                                 }\n",
    "                           ) \n",
    "    # orient = pd.DataFrame(data={'lat': f['gt3r/sea_ice_segments/latitude'][:],\n",
    "    #                             'lon': f['gt3r/sea_ice_segments/longitude'][:],\n",
    "    #                             'orient': f['orbit_info/sc_orient'][:]\n",
    "    #                            }\n",
    "    #                      )"
   ]
  },
  {
   "cell_type": "markdown",
   "id": "e7bb0262-394e-4c98-b92b-e9a4a51a2544",
   "metadata": {},
   "source": [
    "Read in the sample ATL07 data"
   ]
  },
  {
   "cell_type": "code",
   "execution_count": 80,
   "id": "37ccbf56-772c-4dd3-85ee-0ca99164994b",
   "metadata": {},
   "outputs": [],
   "source": [
    "is2_file = 'processed_ATL07-01_20210223050453_09351001_005_01.h5'\n",
    "f = h5py.File(is2_file, 'r')"
   ]
  },
  {
   "cell_type": "markdown",
   "id": "890ff2a9-2bca-4c16-b2b8-e0d96bc3e8ec",
   "metadata": {},
   "source": [
    "This sample data I am using only contains gt3l and gt3r"
   ]
  },
  {
   "cell_type": "code",
   "execution_count": 81,
   "id": "79b4d9f7-c417-408b-96d9-1ff5a069abff",
   "metadata": {},
   "outputs": [
    {
     "data": {
      "text/plain": [
       "['METADATA', 'ancillary_data', 'gt3l', 'gt3r', 'orbit_info']"
      ]
     },
     "execution_count": 81,
     "metadata": {},
     "output_type": "execute_result"
    }
   ],
   "source": [
    "list(f.keys())"
   ]
  },
  {
   "cell_type": "markdown",
   "id": "f7db34f0-ec0f-4c47-a39a-af72488966bf",
   "metadata": {},
   "source": [
    "Check the value of sc_orient"
   ]
  },
  {
   "cell_type": "code",
   "execution_count": 82,
   "id": "4ac4e894-0d3c-4267-a072-b89b217cba17",
   "metadata": {},
   "outputs": [
    {
     "data": {
      "text/plain": [
       "array([1], dtype=int8)"
      ]
     },
     "execution_count": 82,
     "metadata": {},
     "output_type": "execute_result"
    }
   ],
   "source": [
    "orient = f['orbit_info/sc_orient'][:]\n",
    "orient"
   ]
  },
  {
   "cell_type": "markdown",
   "id": "24ea2d45-7c50-48ac-b5e1-f143c8098e43",
   "metadata": {},
   "source": [
    "Extract the strong beam only from the sample ATL07 data"
   ]
  },
  {
   "cell_type": "code",
   "execution_count": 83,
   "id": "3db40f68-7ad9-4eb8-b483-87865eb30ea7",
   "metadata": {},
   "outputs": [
    {
     "data": {
      "text/html": [
       "<div>\n",
       "<style scoped>\n",
       "    .dataframe tbody tr th:only-of-type {\n",
       "        vertical-align: middle;\n",
       "    }\n",
       "\n",
       "    .dataframe tbody tr th {\n",
       "        vertical-align: top;\n",
       "    }\n",
       "\n",
       "    .dataframe thead th {\n",
       "        text-align: right;\n",
       "    }\n",
       "</style>\n",
       "<table border=\"1\" class=\"dataframe\">\n",
       "  <thead>\n",
       "    <tr style=\"text-align: right;\">\n",
       "      <th></th>\n",
       "      <th>lat</th>\n",
       "      <th>lon</th>\n",
       "      <th>elev</th>\n",
       "    </tr>\n",
       "  </thead>\n",
       "  <tbody>\n",
       "    <tr>\n",
       "      <th>0</th>\n",
       "      <td>68.232699</td>\n",
       "      <td>-109.948477</td>\n",
       "      <td>3.402823e+38</td>\n",
       "    </tr>\n",
       "    <tr>\n",
       "      <th>1</th>\n",
       "      <td>68.232699</td>\n",
       "      <td>-109.948477</td>\n",
       "      <td>3.402823e+38</td>\n",
       "    </tr>\n",
       "    <tr>\n",
       "      <th>2</th>\n",
       "      <td>68.232699</td>\n",
       "      <td>-109.948477</td>\n",
       "      <td>3.402823e+38</td>\n",
       "    </tr>\n",
       "    <tr>\n",
       "      <th>3</th>\n",
       "      <td>68.232699</td>\n",
       "      <td>-109.948477</td>\n",
       "      <td>3.402823e+38</td>\n",
       "    </tr>\n",
       "    <tr>\n",
       "      <th>4</th>\n",
       "      <td>68.232699</td>\n",
       "      <td>-109.948477</td>\n",
       "      <td>3.402823e+38</td>\n",
       "    </tr>\n",
       "    <tr>\n",
       "      <th>...</th>\n",
       "      <td>...</td>\n",
       "      <td>...</td>\n",
       "      <td>...</td>\n",
       "    </tr>\n",
       "    <tr>\n",
       "      <th>2023</th>\n",
       "      <td>68.393208</td>\n",
       "      <td>-109.999914</td>\n",
       "      <td>8.459367e-02</td>\n",
       "    </tr>\n",
       "    <tr>\n",
       "      <th>2024</th>\n",
       "      <td>68.393277</td>\n",
       "      <td>-109.999936</td>\n",
       "      <td>1.203090e-01</td>\n",
       "    </tr>\n",
       "    <tr>\n",
       "      <th>2025</th>\n",
       "      <td>68.393331</td>\n",
       "      <td>-109.999953</td>\n",
       "      <td>2.008147e-01</td>\n",
       "    </tr>\n",
       "    <tr>\n",
       "      <th>2026</th>\n",
       "      <td>68.393381</td>\n",
       "      <td>-109.999969</td>\n",
       "      <td>2.659971e-01</td>\n",
       "    </tr>\n",
       "    <tr>\n",
       "      <th>2027</th>\n",
       "      <td>68.393436</td>\n",
       "      <td>-109.999986</td>\n",
       "      <td>2.558262e-01</td>\n",
       "    </tr>\n",
       "  </tbody>\n",
       "</table>\n",
       "<p>2028 rows × 3 columns</p>\n",
       "</div>"
      ],
      "text/plain": [
       "            lat         lon          elev\n",
       "0     68.232699 -109.948477  3.402823e+38\n",
       "1     68.232699 -109.948477  3.402823e+38\n",
       "2     68.232699 -109.948477  3.402823e+38\n",
       "3     68.232699 -109.948477  3.402823e+38\n",
       "4     68.232699 -109.948477  3.402823e+38\n",
       "...         ...         ...           ...\n",
       "2023  68.393208 -109.999914  8.459367e-02\n",
       "2024  68.393277 -109.999936  1.203090e-01\n",
       "2025  68.393331 -109.999953  2.008147e-01\n",
       "2026  68.393381 -109.999969  2.659971e-01\n",
       "2027  68.393436 -109.999986  2.558262e-01\n",
       "\n",
       "[2028 rows x 3 columns]"
      ]
     },
     "execution_count": 83,
     "metadata": {},
     "output_type": "execute_result"
    }
   ],
   "source": [
    "which_beam(f, orient, 'strong')"
   ]
  },
  {
   "cell_type": "code",
   "execution_count": 84,
   "id": "c6d4fd0c-3723-473f-80fb-c9cd12346157",
   "metadata": {},
   "outputs": [
    {
     "data": {
      "text/html": [
       "<div>\n",
       "<style scoped>\n",
       "    .dataframe tbody tr th:only-of-type {\n",
       "        vertical-align: middle;\n",
       "    }\n",
       "\n",
       "    .dataframe tbody tr th {\n",
       "        vertical-align: top;\n",
       "    }\n",
       "\n",
       "    .dataframe thead th {\n",
       "        text-align: right;\n",
       "    }\n",
       "</style>\n",
       "<table border=\"1\" class=\"dataframe\">\n",
       "  <thead>\n",
       "    <tr style=\"text-align: right;\">\n",
       "      <th></th>\n",
       "      <th>lat</th>\n",
       "      <th>lon</th>\n",
       "      <th>elev</th>\n",
       "    </tr>\n",
       "  </thead>\n",
       "  <tbody>\n",
       "    <tr>\n",
       "      <th>0</th>\n",
       "      <td>68.232699</td>\n",
       "      <td>-109.948477</td>\n",
       "      <td>3.402823e+38</td>\n",
       "    </tr>\n",
       "    <tr>\n",
       "      <th>1</th>\n",
       "      <td>68.232699</td>\n",
       "      <td>-109.948477</td>\n",
       "      <td>3.402823e+38</td>\n",
       "    </tr>\n",
       "    <tr>\n",
       "      <th>2</th>\n",
       "      <td>68.232699</td>\n",
       "      <td>-109.948477</td>\n",
       "      <td>3.402823e+38</td>\n",
       "    </tr>\n",
       "    <tr>\n",
       "      <th>3</th>\n",
       "      <td>68.232699</td>\n",
       "      <td>-109.948477</td>\n",
       "      <td>3.402823e+38</td>\n",
       "    </tr>\n",
       "    <tr>\n",
       "      <th>4</th>\n",
       "      <td>68.232699</td>\n",
       "      <td>-109.948477</td>\n",
       "      <td>3.402823e+38</td>\n",
       "    </tr>\n",
       "    <tr>\n",
       "      <th>...</th>\n",
       "      <td>...</td>\n",
       "      <td>...</td>\n",
       "      <td>...</td>\n",
       "    </tr>\n",
       "    <tr>\n",
       "      <th>2023</th>\n",
       "      <td>68.393208</td>\n",
       "      <td>-109.999914</td>\n",
       "      <td>8.459367e-02</td>\n",
       "    </tr>\n",
       "    <tr>\n",
       "      <th>2024</th>\n",
       "      <td>68.393277</td>\n",
       "      <td>-109.999936</td>\n",
       "      <td>1.203090e-01</td>\n",
       "    </tr>\n",
       "    <tr>\n",
       "      <th>2025</th>\n",
       "      <td>68.393331</td>\n",
       "      <td>-109.999953</td>\n",
       "      <td>2.008147e-01</td>\n",
       "    </tr>\n",
       "    <tr>\n",
       "      <th>2026</th>\n",
       "      <td>68.393381</td>\n",
       "      <td>-109.999969</td>\n",
       "      <td>2.659971e-01</td>\n",
       "    </tr>\n",
       "    <tr>\n",
       "      <th>2027</th>\n",
       "      <td>68.393436</td>\n",
       "      <td>-109.999986</td>\n",
       "      <td>2.558262e-01</td>\n",
       "    </tr>\n",
       "  </tbody>\n",
       "</table>\n",
       "<p>2028 rows × 3 columns</p>\n",
       "</div>"
      ],
      "text/plain": [
       "            lat         lon          elev\n",
       "0     68.232699 -109.948477  3.402823e+38\n",
       "1     68.232699 -109.948477  3.402823e+38\n",
       "2     68.232699 -109.948477  3.402823e+38\n",
       "3     68.232699 -109.948477  3.402823e+38\n",
       "4     68.232699 -109.948477  3.402823e+38\n",
       "...         ...         ...           ...\n",
       "2023  68.393208 -109.999914  8.459367e-02\n",
       "2024  68.393277 -109.999936  1.203090e-01\n",
       "2025  68.393331 -109.999953  2.008147e-01\n",
       "2026  68.393381 -109.999969  2.659971e-01\n",
       "2027  68.393436 -109.999986  2.558262e-01\n",
       "\n",
       "[2028 rows x 3 columns]"
      ]
     },
     "execution_count": 84,
     "metadata": {},
     "output_type": "execute_result"
    }
   ],
   "source": [
    "# When orient==1, ICESat-2 is forward and the Right beams are strong\n",
    "# Check if gt3r is the output of which_beam(f,orient,'strong')\n",
    "is2_gt3r"
   ]
  },
  {
   "cell_type": "markdown",
   "id": "3fcd6b72-4005-43bb-9d6c-f4f9626ff5bf",
   "metadata": {},
   "source": [
    "Extract the weak beam only"
   ]
  },
  {
   "cell_type": "code",
   "execution_count": 89,
   "id": "3600b376-a556-45b0-975b-826a0b453bfc",
   "metadata": {},
   "outputs": [
    {
     "data": {
      "text/html": [
       "<div>\n",
       "<style scoped>\n",
       "    .dataframe tbody tr th:only-of-type {\n",
       "        vertical-align: middle;\n",
       "    }\n",
       "\n",
       "    .dataframe tbody tr th {\n",
       "        vertical-align: top;\n",
       "    }\n",
       "\n",
       "    .dataframe thead th {\n",
       "        text-align: right;\n",
       "    }\n",
       "</style>\n",
       "<table border=\"1\" class=\"dataframe\">\n",
       "  <thead>\n",
       "    <tr style=\"text-align: right;\">\n",
       "      <th></th>\n",
       "      <th>lat</th>\n",
       "      <th>lon</th>\n",
       "      <th>elev</th>\n",
       "    </tr>\n",
       "  </thead>\n",
       "  <tbody>\n",
       "    <tr>\n",
       "      <th>0</th>\n",
       "      <td>68.233393</td>\n",
       "      <td>-109.950679</td>\n",
       "      <td>0.199710</td>\n",
       "    </tr>\n",
       "    <tr>\n",
       "      <th>1</th>\n",
       "      <td>68.233393</td>\n",
       "      <td>-109.950679</td>\n",
       "      <td>0.199710</td>\n",
       "    </tr>\n",
       "    <tr>\n",
       "      <th>2</th>\n",
       "      <td>68.233393</td>\n",
       "      <td>-109.950679</td>\n",
       "      <td>0.199898</td>\n",
       "    </tr>\n",
       "    <tr>\n",
       "      <th>3</th>\n",
       "      <td>68.233393</td>\n",
       "      <td>-109.950679</td>\n",
       "      <td>0.199710</td>\n",
       "    </tr>\n",
       "    <tr>\n",
       "      <th>4</th>\n",
       "      <td>68.233393</td>\n",
       "      <td>-109.950679</td>\n",
       "      <td>0.199710</td>\n",
       "    </tr>\n",
       "    <tr>\n",
       "      <th>...</th>\n",
       "      <td>...</td>\n",
       "      <td>...</td>\n",
       "      <td>...</td>\n",
       "    </tr>\n",
       "    <tr>\n",
       "      <th>1912</th>\n",
       "      <td>68.387299</td>\n",
       "      <td>-109.999908</td>\n",
       "      <td>0.009291</td>\n",
       "    </tr>\n",
       "    <tr>\n",
       "      <th>1913</th>\n",
       "      <td>68.387356</td>\n",
       "      <td>-109.999927</td>\n",
       "      <td>0.019338</td>\n",
       "    </tr>\n",
       "    <tr>\n",
       "      <th>1914</th>\n",
       "      <td>68.387408</td>\n",
       "      <td>-109.999944</td>\n",
       "      <td>0.033115</td>\n",
       "    </tr>\n",
       "    <tr>\n",
       "      <th>1915</th>\n",
       "      <td>68.387487</td>\n",
       "      <td>-109.999971</td>\n",
       "      <td>0.051873</td>\n",
       "    </tr>\n",
       "    <tr>\n",
       "      <th>1916</th>\n",
       "      <td>68.387547</td>\n",
       "      <td>-109.999991</td>\n",
       "      <td>0.068151</td>\n",
       "    </tr>\n",
       "  </tbody>\n",
       "</table>\n",
       "<p>1917 rows × 3 columns</p>\n",
       "</div>"
      ],
      "text/plain": [
       "            lat         lon      elev\n",
       "0     68.233393 -109.950679  0.199710\n",
       "1     68.233393 -109.950679  0.199710\n",
       "2     68.233393 -109.950679  0.199898\n",
       "3     68.233393 -109.950679  0.199710\n",
       "4     68.233393 -109.950679  0.199710\n",
       "...         ...         ...       ...\n",
       "1912  68.387299 -109.999908  0.009291\n",
       "1913  68.387356 -109.999927  0.019338\n",
       "1914  68.387408 -109.999944  0.033115\n",
       "1915  68.387487 -109.999971  0.051873\n",
       "1916  68.387547 -109.999991  0.068151\n",
       "\n",
       "[1917 rows x 3 columns]"
      ]
     },
     "execution_count": 89,
     "metadata": {},
     "output_type": "execute_result"
    }
   ],
   "source": [
    "which_beam(f, orient, 'weak')"
   ]
  },
  {
   "cell_type": "markdown",
   "id": "91793826-e3f1-48a9-9a38-396133157e02",
   "metadata": {},
   "source": [
    "Plotting strong and weak beams to compare\n"
   ]
  },
  {
   "cell_type": "code",
   "execution_count": 94,
   "id": "24ab7c11-82dd-43bd-ad2c-8425a7f8814d",
   "metadata": {},
   "outputs": [
    {
     "data": {
      "text/plain": [
       "<AxesSubplot:>"
      ]
     },
     "execution_count": 94,
     "metadata": {},
     "output_type": "execute_result"
    },
    {
     "data": {
      "image/png": "[encoded data removed]",
      "text/plain": [
       "<Figure size 432x288 with 1 Axes>"
      ]
     },
     "metadata": {
      "needs_background": "light"
     },
     "output_type": "display_data"
    }
   ],
   "source": [
    "which_beam(f, orient, 'weak')['elev'].plot(color='blue')"
   ]
  },
  {
   "cell_type": "code",
   "execution_count": 93,
   "id": "da349bb9-58eb-4343-bb48-c949617d342f",
   "metadata": {},
   "outputs": [
    {
     "data": {
      "text/plain": [
       "<AxesSubplot:>"
      ]
     },
     "execution_count": 93,
     "metadata": {},
     "output_type": "execute_result"
    },
    {
     "data": {
      "image/png": "[encoded data removed]",
      "text/plain": [
       "<Figure size 432x288 with 1 Axes>"
      ]
     },
     "metadata": {
      "needs_background": "light"
     },
     "output_type": "display_data"
    }
   ],
   "source": [
    "which_beam(f, orient, 'strong')['elev'].plot(color='orange')"
   ]
  },
  {
   "cell_type": "markdown",
   "id": "6989c86f-1865-46eb-a819-3f0c2e779e5f",
   "metadata": {},
   "source": [
    "Looks like the strong beam has some invalid elevation values. Let's exclude them and plot again."
   ]
  },
  {
   "cell_type": "code",
   "execution_count": null,
   "id": "5fe52214-41c1-4b93-a6e1-f42e5ea55b28",
   "metadata": {},
   "outputs": [],
   "source": [
    "elev = which_beam(f, orient, 'strong')['elev']\n",
    "elev[elev].plot(color='orange')"
   ]
  }
 ],
 "metadata": {
  "kernelspec": {
   "display_name": "Python 3 (ipykernel)",
   "language": "python",
   "name": "python3"
  },
  "language_info": {
   "codemirror_mode": {
    "name": "ipython",
    "version": 3
   },
   "file_extension": ".py",
   "mimetype": "text/x-python",
   "name": "python",
   "nbconvert_exporter": "python",
   "pygments_lexer": "ipython3",
   "version": "3.9.10"
  }
 },
 "nbformat": 4,
 "nbformat_minor": 5
}
