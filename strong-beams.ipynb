{
 "cells": [
  {
   "cell_type": "markdown",
   "id": "879766a9-70fc-455d-8d80-3b4d46298022",
   "metadata": {},
   "source": [
    "ICESat-2 orientation can be: backward, forward, and transition. During transition, ICESat-2 is maneuvering between the two orientations. Science quality is potentially degraded while in transition mode. (Source: https://nsidc.org/sites/nsidc.org/files/technical-references/ICESat2_ATL03_data_dict_v005.pdf)\n"
   ]
  },
  {
   "cell_type": "markdown",
   "id": "bffa1df3-38f0-4296-8f54-67e8bf660efd",
   "metadata": {},
   "source": [
    "The parameter \"/orbit_info/sc_orient\" in ATL03 denotes the orientation of ICESat-2.\n",
    "\n",
    "0 = backward\n",
    "\n",
    "1 = forward\n",
    "\n",
    "2 = transition"
   ]
  },
  {
   "cell_type": "code",
   "execution_count": null,
   "id": "769024d5-5a3d-4f5c-bd85-538b8e570612",
   "metadata": {},
   "outputs": [],
   "source": []
  },
  {
   "cell_type": "markdown",
   "id": "a4fbfd3d-3a29-480e-8fdb-92cf38f103c5",
   "metadata": {},
   "source": [
    "User input: \"strong\" or \"weak\""
   ]
  },
  {
   "cell_type": "code",
   "execution_count": null,
   "id": "28be40d5-692f-4576-967e-e449562e7528",
   "metadata": {},
   "outputs": [],
   "source": []
  },
  {
   "cell_type": "markdown",
   "id": "96b00683-310d-4732-94c7-5339e8a260ff",
   "metadata": {},
   "source": [
    "Script reads the variable \"/orbit_info/sc_orient\" to determine orientation."
   ]
  },
  {
   "cell_type": "code",
   "execution_count": null,
   "id": "5bd68234-9703-430f-b9f4-1b9548cc169f",
   "metadata": {},
   "outputs": [],
   "source": []
  },
  {
   "cell_type": "code",
   "execution_count": null,
   "id": "5cdbf181-6e38-4992-ae1e-0efa7f548ce9",
   "metadata": {},
   "outputs": [],
   "source": [
    "# If input = \"strong\":\n",
    "#     If sc_orient = 0:\n",
    "#         subset gt1l, gt2l, gt3l\n",
    "#     elif sc_orient = 1:\n",
    "#         subset gt1r, gt2r, gt3r\n",
    "#     else:\n",
    "#         print(\"Error: transition phase\"), or other output?"
   ]
  },
  {
   "cell_type": "code",
   "execution_count": null,
   "id": "750a9ff0-220c-4e7d-a059-e6872313fffd",
   "metadata": {},
   "outputs": [],
   "source": []
  },
  {
   "cell_type": "code",
   "execution_count": null,
   "id": "c95a2995-c5a2-496f-93b3-a44ad188d75e",
   "metadata": {},
   "outputs": [],
   "source": [
    "# If input = \"weak\":\n",
    "#     If sc_orient = 0:\n",
    "#         subset gt1r, gt2r, gt3r\n",
    "#     elif sc_orient = 1:\n",
    "#         subset gt1l, gt2l, gt3l\n",
    "#     else:\n",
    "#         print(\"Error: transition phase\"), or other output?"
   ]
  },
  {
   "cell_type": "code",
   "execution_count": null,
   "id": "df5057ba-3f8f-409b-85bd-1e3f7b24f753",
   "metadata": {},
   "outputs": [],
   "source": []
  }
 ],
 "metadata": {
  "kernelspec": {
   "display_name": "Python 3 (ipykernel)",
   "language": "python",
   "name": "python3"
  },
  "language_info": {
   "codemirror_mode": {
    "name": "ipython",
    "version": 3
   },
   "file_extension": ".py",
   "mimetype": "text/x-python",
   "name": "python",
   "nbconvert_exporter": "python",
   "pygments_lexer": "ipython3",
   "version": "3.9.10"
  }
 },
 "nbformat": 4,
 "nbformat_minor": 5
}
