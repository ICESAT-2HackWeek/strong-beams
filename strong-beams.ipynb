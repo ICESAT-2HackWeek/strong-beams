{
 "cells": [
  {
   "cell_type": "markdown",
   "id": "879766a9-70fc-455d-8d80-3b4d46298022",
   "metadata": {},
   "source": [
    "ICESat-2 orientation can be: backward, forward, and transition. During transition, ICESat-2 is maneuvering between the two orientations. Science quality is potentially degraded while in transition mode. (Source: https://nsidc.org/sites/nsidc.org/files/technical-references/ICESat2_ATL03_data_dict_v005.pdf)\n"
   ]
  },
  {
   "cell_type": "markdown",
   "id": "bffa1df3-38f0-4296-8f54-67e8bf660efd",
   "metadata": {},
   "source": [
    "The parameter sc_orient in ATL03 denotes the orientation of ICESat-2\n",
    "0 = backward\n",
    "1 = forward\n",
    "2 = transition"
   ]
  },
  {
   "cell_type": "code",
   "execution_count": null,
   "id": "ca391459-a213-4357-93e3-1383839a29fb",
   "metadata": {},
   "outputs": [],
   "source": []
  },
  {
   "cell_type": "code",
   "execution_count": null,
   "id": "28be40d5-692f-4576-967e-e449562e7528",
   "metadata": {},
   "outputs": [],
   "source": []
  },
  {
   "cell_type": "code",
   "execution_count": null,
   "id": "e51c2a38-43b0-463a-bcba-79a04afd0ce8",
   "metadata": {},
   "outputs": [],
   "source": []
  },
  {
   "cell_type": "code",
   "execution_count": null,
   "id": "5bd68234-9703-430f-b9f4-1b9548cc169f",
   "metadata": {},
   "outputs": [],
   "source": []
  }
 ],
 "metadata": {
  "kernelspec": {
   "display_name": "Python 3 (ipykernel)",
   "language": "python",
   "name": "python3"
  },
  "language_info": {
   "codemirror_mode": {
    "name": "ipython",
    "version": 3
   },
   "file_extension": ".py",
   "mimetype": "text/x-python",
   "name": "python",
   "nbconvert_exporter": "python",
   "pygments_lexer": "ipython3",
   "version": "3.9.10"
  }
 },
 "nbformat": 4,
 "nbformat_minor": 5
}
