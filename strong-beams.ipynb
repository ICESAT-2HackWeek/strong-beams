{
 "cells": [
  {
   "cell_type": "markdown",
   "id": "d1449da8",
   "metadata": {},
   "source": [
    "ICESat-2 orientation can be: backward, forward, and transition. During transition, ICESat-2 is maneuvering between the two orientations. Science quality is potentially degraded while in transition mode. (Source: https://nsidc.org/sites/nsidc.org/files/technical-references/ICESat2_ATL03_data_dict_v005.pdf)\n"
   ]
  },
  {
   "cell_type": "markdown",
   "id": "4c0eea14",
   "metadata": {},
   "source": [
    "The parameter \"/orbit_info/sc_orient\" in ATL03 denotes the orientation of ICESat-2.\n",
    "\n",
    "0 = backward\n",
    "\n",
    "1 = forward\n",
    "\n",
    "2 = transition"
   ]
  },
  {
   "cell_type": "code",
   "execution_count": null,
   "id": "6de0a999",
   "metadata": {},
   "outputs": [],
   "source": [
    "import h5py\n",
    "import pandas as pd"
   ]
  },
  {
   "cell_type": "markdown",
   "id": "94346d3a",
   "metadata": {},
   "source": [
    "User input: \"strong\" or \"weak\""
   ]
  },
  {
   "cell_type": "code",
   "execution_count": null,
   "id": "b9b2b552",
   "metadata": {},
   "outputs": [],
   "source": [
    "def which_beam(f, sc_orient, beam='both'):\n",
    "    if beam=='both':\n",
    "        # extracted_beam = \n",
    "        print(\"Subset both beams\")\n",
    "    elif beam=='strong':\n",
    "        extracted_beam = get_strong_beams(f, sc_orient)\n",
    "    elif beam=='weak':\n",
    "        extracted_beam = get_weak_beams(f, sc_orient)\n",
    "    else:\n",
    "        print('Input should be one of the following: \"both\", \"strong\" or \"weak\"')\n",
    "    return extracted_beam"
   ]
  },
  {
   "cell_type": "markdown",
   "id": "9be2064d",
   "metadata": {},
   "source": [
    "Script reads the variable \"/orbit_info/sc_orient\" to determine orientation."
   ]
  },
  {
   "cell_type": "code",
   "execution_count": null,
   "id": "577807ac",
   "metadata": {},
   "outputs": [],
   "source": [
    "# If input = \"strong\":\n",
    "#     If sc_orient = 0:\n",
    "#         subset gt1l, gt2l, gt3l\n",
    "#     elif sc_orient = 1:\n",
    "#         subset gt1r, gt2r, gt3r\n",
    "#     else:\n",
    "#         print(\"Error: transition phase\"), or other output?"
   ]
  },
  {
   "cell_type": "code",
   "execution_count": null,
   "id": "2628aa1e",
   "metadata": {},
   "outputs": [],
   "source": [
    "def get_strong_beams(f, sc_orient):\n",
    "    if sc_orient == 0:\n",
    "        # subset gt1l, gt2l, gt3l\n",
    "        track = 'gt3l' # or 'gt1l', 'gt2l'\n",
    "        strong = pd.DataFrame(data={'lat': f[track + '/sea_ice_segments/latitude'][:],\n",
    "                                  'lon': f[track + '/sea_ice_segments/longitude'][:],\n",
    "                                  'elev': f[track + '/sea_ice_segments/heights/height_segment_height'][:]\n",
    "                                 }\n",
    "                           )\n",
    "    elif sc_orient == 1:\n",
    "        # subset gt1r, gt2r, gt3r\n",
    "        track = 'gt3r' # or 'gt1r', 'gt2r'\n",
    "        strong = pd.DataFrame(data={'lat': f[track + '/sea_ice_segments/latitude'][:],\n",
    "                                  'lon': f[track + '/sea_ice_segments/longitude'][:],\n",
    "                                  'elev': f[track + '/sea_ice_segments/heights/height_segment_height'][:]\n",
    "                                 }\n",
    "                           )\n",
    "    else:\n",
    "        print(\"Error: transition phase\") # or other output?\n",
    "        strong = pd.DataFrame()\n",
    "    return strong"
   ]
  },
  {
   "cell_type": "code",
   "execution_count": null,
   "id": "1e2b935c",
   "metadata": {},
   "outputs": [],
   "source": [
    "# If input = \"weak\":\n",
    "#     If sc_orient = 0:\n",
    "#         subset gt1r, gt2r, gt3r\n",
    "#     elif sc_orient = 1:\n",
    "#         subset gt1l, gt2l, gt3l\n",
    "#     else:\n",
    "#         print(\"Error: transition phase\"), or other output?"
   ]
  },
  {
   "cell_type": "code",
   "execution_count": null,
   "id": "f394a673",
   "metadata": {},
   "outputs": [],
   "source": [
    "def get_weak_beams(f, sc_orient):\n",
    "    if sc_orient == 0:\n",
    "        # subset gt1r, gt2r, gt3r\n",
    "        track = 'gt3r' # or 'gt1r', 'gt2r'\n",
    "        weak = pd.DataFrame(data={'lat': f[track + '/sea_ice_segments/latitude'][:],\n",
    "                                  'lon': f[track + '/sea_ice_segments/longitude'][:],\n",
    "                                  'elev': f[track + '/sea_ice_segments/heights/height_segment_height'][:]\n",
    "                                 }\n",
    "                           )\n",
    "    elif sc_orient == 1:\n",
    "        # subset gt1l, gt2l, gt3l\n",
    "        track = 'gt3l' # or 'gt1l', 'gt2l'\n",
    "        strong = pd.DataFrame(data={'lat': f[track + '/sea_ice_segments/latitude'][:],\n",
    "                                  'lon': f[track + '/sea_ice_segments/longitude'][:],\n",
    "                                  'elev': f[track + '/sea_ice_segments/heights/height_segment_height'][:]\n",
    "                                 }\n",
    "                           )\n",
    "    else:\n",
    "        print(\"Error: transition phase\") # or other output?\n",
    "        weak = pd.DataFrame()\n",
    "    return weak"
   ]
  },
  {
   "cell_type": "markdown",
   "id": "62405a43",
   "metadata": {},
   "source": [
    "Sample data to demonstrate idea (Attached in GitHub repo)"
   ]
  },
  {
   "cell_type": "code",
   "execution_count": null,
   "id": "4c6f615c",
   "metadata": {},
   "outputs": [],
   "source": [
    "is2_file = 'processed_ATL07-01_20210223050453_09351001_005_01.h5'\n",
    "with h5py.File(is2_file, 'r') as f:\n",
    "    is2_gt3r = pd.DataFrame(data={'lat': f['gt3r/sea_ice_segments/latitude'][:],\n",
    "                                  'lon': f['gt3r/sea_ice_segments/longitude'][:],\n",
    "                                  'elev': f['gt3r/sea_ice_segments/heights/height_segment_height'][:]\n",
    "                                 }\n",
    "                           ) \n",
    "    is2_gt3l = pd.DataFrame(data={'lat': f['gt3l/sea_ice_segments/latitude'][:],\n",
    "                                  'lon': f['gt3l/sea_ice_segments/longitude'][:],\n",
    "                                  'elev': f['gt3l/sea_ice_segments/heights/height_segment_height'][:]\n",
    "                                 }\n",
    "                           ) \n",
    "    # orient = pd.DataFrame(data={'lat': f['gt3r/sea_ice_segments/latitude'][:],\n",
    "    #                             'lon': f['gt3r/sea_ice_segments/longitude'][:],\n",
    "    #                             'orient': f['orbit_info/sc_orient'][:]\n",
    "    #                            }\n",
    "    #                      )"
   ]
  },
  {
   "cell_type": "markdown",
   "id": "08b9323c",
   "metadata": {},
   "source": [
    "Read in the sample ATL07 data"
   ]
  },
  {
   "cell_type": "code",
   "execution_count": null,
   "id": "308bac59",
   "metadata": {},
   "outputs": [],
   "source": [
    "is2_file = 'processed_ATL07-01_20210223050453_09351001_005_01.h5'\n",
    "f = h5py.File(is2_file, 'r')"
   ]
  },
  {
   "cell_type": "markdown",
   "id": "2d53535c",
   "metadata": {},
   "source": [
    "This sample data I am using only contains gt3l and gt3r"
   ]
  },
  {
   "cell_type": "code",
   "execution_count": null,
   "id": "a583608b",
   "metadata": {},
   "outputs": [],
   "source": [
    "list(f.keys())"
   ]
  },
  {
   "cell_type": "markdown",
   "id": "aa55055b",
   "metadata": {},
   "source": [
    "Check the value of sc_orient"
   ]
  },
  {
   "cell_type": "code",
   "execution_count": null,
   "id": "5ead831e",
   "metadata": {},
   "outputs": [],
   "source": [
    "orient = f['orbit_info/sc_orient'][:]\n",
    "orient"
   ]
  },
  {
   "cell_type": "markdown",
   "id": "1c8bca46",
   "metadata": {},
   "source": [
    "Extract the strong beam only from the sample ATL07 data"
   ]
  },
  {
   "cell_type": "code",
   "execution_count": null,
   "id": "1b3fd3e4",
   "metadata": {},
   "outputs": [],
   "source": [
    "which_beam(f,orient,'strong')"
   ]
  },
  {
   "cell_type": "code",
   "execution_count": null,
   "id": "2d2a5ae4",
   "metadata": {},
   "outputs": [],
   "source": [
    "# When orient==1, ICESat-2 is forward and the Right beams are strong\n",
    "# Check if gt3r is the output of which_beam(f,orient,'strong')\n",
    "is2_gt3r"
   ]
  },
  {
   "cell_type": "code",
   "execution_count": null,
   "id": "33538707",
   "metadata": {},
   "outputs": [],
   "source": []
  }
 ],
 "metadata": {
  "kernelspec": {
   "display_name": "Python 3 (ipykernel)",
   "language": "python",
   "name": "python3"
  },
  "language_info": {
   "codemirror_mode": {
    "name": "ipython",
    "version": 3
   },
   "file_extension": ".py",
   "mimetype": "text/x-python",
   "name": "python",
   "nbconvert_exporter": "python",
   "pygments_lexer": "ipython3",
   "version": "3.9.10"
  }
 },
 "nbformat": 4,
 "nbformat_minor": 5
}
