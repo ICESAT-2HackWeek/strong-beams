{
 "cells": [
  {
   "cell_type": "markdown",
   "id": "879766a9-70fc-455d-8d80-3b4d46298022",
   "metadata": {},
   "source": [
    "ICESat-2 orientation can be: backward, forward, and transition. During transition, ICESat-2 is maneuvering between the two orientations. Science quality is potentially degraded while in transition mode. (Source: https://nsidc.org/sites/nsidc.org/files/technical-references/ICESat2_ATL03_data_dict_v005.pdf)\n"
   ]
  },
  {
   "cell_type": "markdown",
   "id": "bffa1df3-38f0-4296-8f54-67e8bf660efd",
   "metadata": {},
   "source": [
    "The parameter \"/orbit_info/sc_orient\" in ATL03 denotes the orientation of ICESat-2.\n",
    "\n",
    "0 = backward\n",
    "\n",
    "1 = forward\n",
    "\n",
    "2 = transition"
   ]
  },
  {
   "cell_type": "code",
   "execution_count": null,
   "id": "769024d5-5a3d-4f5c-bd85-538b8e570612",
   "metadata": {},
   "outputs": [],
   "source": [
    "import h5py\n",
    "import pandas as pd"
   ]
  },
  {
   "cell_type": "markdown",
   "id": "a4fbfd3d-3a29-480e-8fdb-92cf38f103c5",
   "metadata": {},
   "source": [
    "User input: \"strong\" or \"weak\""
   ]
  },
  {
   "cell_type": "code",
   "execution_count": null,
   "id": "28be40d5-692f-4576-967e-e449562e7528",
   "metadata": {},
   "outputs": [],
   "source": [
    "def which_beam(f, sc_orient, beam='both'):\n",
    "    if beam=='both':\n",
    "        # extracted_beam = \n",
    "        print(\"Subset both beams\")\n",
    "    elif beam=='strong':\n",
    "        extracted_beam = get_strong_beams(f, sc_orient)\n",
    "    elif beam=='weak':\n",
    "        extracted_beam = get_weak_beams(f, sc_orient)\n",
    "    else:\n",
    "        print('Input should be one of the following: \"both\", \"strong\" or \"weak\"')\n",
    "    return extracted_beam"
   ]
  },
  {
   "cell_type": "markdown",
   "id": "96b00683-310d-4732-94c7-5339e8a260ff",
   "metadata": {},
   "source": [
    "Script reads the variable \"/orbit_info/sc_orient\" to determine orientation."
   ]
  },
  {
   "cell_type": "code",
   "execution_count": null,
   "id": "5cdbf181-6e38-4992-ae1e-0efa7f548ce9",
   "metadata": {},
   "outputs": [],
   "source": [
    "# If input = \"strong\":\n",
    "#     If sc_orient = 0:\n",
    "#         subset gt1l, gt2l, gt3l\n",
    "#     elif sc_orient = 1:\n",
    "#         subset gt1r, gt2r, gt3r\n",
    "#     else:\n",
    "#         print(\"Error: transition phase\"), or other output?"
   ]
  },
  {
   "cell_type": "code",
   "execution_count": null,
   "id": "750a9ff0-220c-4e7d-a059-e6872313fffd",
   "metadata": {},
   "outputs": [],
   "source": [
    "def get_strong_beams(f, sc_orient):\n",
    "    if sc_orient == 0:\n",
    "        # subset gt1l, gt2l, gt3l\n",
    "        track = 'gt3l' # or 'gt1l', 'gt2l'\n",
    "        strong = pd.DataFrame(data={'lat': f[track + '/sea_ice_segments/latitude'][:],\n",
    "                                  'lon': f[track + '/sea_ice_segments/longitude'][:],\n",
    "                                  'elev': f[track + '/sea_ice_segments/heights/height_segment_height'][:]\n",
    "                                 }\n",
    "                           )\n",
    "    elif sc_orient == 1:\n",
    "        # subset gt1r, gt2r, gt3r\n",
    "        track = 'gt3r' # or 'gt1r', 'gt2r'\n",
    "        strong = pd.DataFrame(data={'lat': f[track + '/sea_ice_segments/latitude'][:],\n",
    "                                  'lon': f[track + '/sea_ice_segments/longitude'][:],\n",
    "                                  'elev': f[track + '/sea_ice_segments/heights/height_segment_height'][:]\n",
    "                                 }\n",
    "                           )\n",
    "    else:\n",
    "        print(\"Error: transition phase\") # or other output?\n",
    "        strong = pd.DataFrame()\n",
    "    return strong"
   ]
  },
  {
   "cell_type": "code",
   "execution_count": null,
   "id": "c95a2995-c5a2-496f-93b3-a44ad188d75e",
   "metadata": {},
   "outputs": [],
   "source": [
    "# If input = \"weak\":\n",
    "#     If sc_orient = 0:\n",
    "#         subset gt1r, gt2r, gt3r\n",
    "#     elif sc_orient = 1:\n",
    "#         subset gt1l, gt2l, gt3l\n",
    "#     else:\n",
    "#         print(\"Error: transition phase\"), or other output?"
   ]
  },
  {
   "cell_type": "code",
   "execution_count": null,
   "id": "df5057ba-3f8f-409b-85bd-1e3f7b24f753",
   "metadata": {},
   "outputs": [],
   "source": [
    "def get_weak_beams(f, sc_orient):\n",
    "    if sc_orient == 0:\n",
    "        # subset gt1r, gt2r, gt3r\n",
    "        track = 'gt3r' # or 'gt1r', 'gt2r'\n",
    "        weak = pd.DataFrame(data={'lat': f[track + '/sea_ice_segments/latitude'][:],\n",
    "                                  'lon': f[track + '/sea_ice_segments/longitude'][:],\n",
    "                                  'elev': f[track + '/sea_ice_segments/heights/height_segment_height'][:]\n",
    "                                 }\n",
    "                           )\n",
    "    elif sc_orient == 1:\n",
    "        # subset gt1l, gt2l, gt3l\n",
    "        track = 'gt3l' # or 'gt1l', 'gt2l'\n",
    "        strong = pd.DataFrame(data={'lat': f[track + '/sea_ice_segments/latitude'][:],\n",
    "                                  'lon': f[track + '/sea_ice_segments/longitude'][:],\n",
    "                                  'elev': f[track + '/sea_ice_segments/heights/height_segment_height'][:]\n",
    "                                 }\n",
    "                           )\n",
    "    else:\n",
    "        print(\"Error: transition phase\") # or other output?\n",
    "        weak = pd.DataFrame()\n",
    "    return weak"
   ]
  },
  {
   "cell_type": "markdown",
   "id": "59f82e88-ef2d-466c-93fd-5495e627fc59",
   "metadata": {},
   "source": [
    "Sample data to demonstrate idea (Attached in GitHub repo)"
   ]
  },
  {
   "cell_type": "code",
   "execution_count": null,
   "id": "7f02b1c0-5afb-455d-a500-789911d6d4f8",
   "metadata": {},
   "outputs": [],
   "source": [
    "is2_file = 'processed_ATL07-01_20210223050453_09351001_005_01.h5'\n",
    "with h5py.File(is2_file, 'r') as f:\n",
    "    is2_gt3r = pd.DataFrame(data={'lat': f['gt3r/sea_ice_segments/latitude'][:],\n",
    "                                  'lon': f['gt3r/sea_ice_segments/longitude'][:],\n",
    "                                  'elev': f['gt3r/sea_ice_segments/heights/height_segment_height'][:]\n",
    "                                 }\n",
    "                           ) \n",
    "    is2_gt3l = pd.DataFrame(data={'lat': f['gt3l/sea_ice_segments/latitude'][:],\n",
    "                                  'lon': f['gt3l/sea_ice_segments/longitude'][:],\n",
    "                                  'elev': f['gt3l/sea_ice_segments/heights/height_segment_height'][:]\n",
    "                                 }\n",
    "                           ) \n",
    "    # orient = pd.DataFrame(data={'lat': f['gt3r/sea_ice_segments/latitude'][:],\n",
    "    #                             'lon': f['gt3r/sea_ice_segments/longitude'][:],\n",
    "    #                             'orient': f['orbit_info/sc_orient'][:]\n",
    "    #                            }\n",
    "    #                      )"
   ]
  },
  {
   "cell_type": "markdown",
   "id": "e7bb0262-394e-4c98-b92b-e9a4a51a2544",
   "metadata": {},
   "source": [
    "Read in the sample ATL07 data"
   ]
  },
  {
   "cell_type": "code",
   "execution_count": null,
   "id": "37ccbf56-772c-4dd3-85ee-0ca99164994b",
   "metadata": {},
   "outputs": [],
   "source": [
    "is2_file = 'processed_ATL07-01_20210223050453_09351001_005_01.h5'\n",
    "f = h5py.File(is2_file, 'r')"
   ]
  },
  {
   "cell_type": "markdown",
   "id": "890ff2a9-2bca-4c16-b2b8-e0d96bc3e8ec",
   "metadata": {},
   "source": [
    "This sample data I am using only contains gt3l and gt3r"
   ]
  },
  {
   "cell_type": "code",
   "execution_count": null,
   "id": "79b4d9f7-c417-408b-96d9-1ff5a069abff",
   "metadata": {},
   "outputs": [],
   "source": [
    "list(f.keys())"
   ]
  },
  {
   "cell_type": "markdown",
   "id": "f7db34f0-ec0f-4c47-a39a-af72488966bf",
   "metadata": {},
   "source": [
    "Check the value of sc_orient"
   ]
  },
  {
   "cell_type": "code",
   "execution_count": null,
   "id": "4ac4e894-0d3c-4267-a072-b89b217cba17",
   "metadata": {},
   "outputs": [],
   "source": [
    "orient = f['orbit_info/sc_orient'][:]\n",
    "orient"
   ]
  },
  {
   "cell_type": "markdown",
   "id": "24ea2d45-7c50-48ac-b5e1-f143c8098e43",
   "metadata": {},
   "source": [
    "Extract the strong beam only from the sample ATL07 data"
   ]
  },
  {
   "cell_type": "code",
   "execution_count": null,
   "id": "3db40f68-7ad9-4eb8-b483-87865eb30ea7",
   "metadata": {},
   "outputs": [],
   "source": [
    "which_beam(f,orient,'strong')"
   ]
  },
  {
   "cell_type": "code",
   "execution_count": null,
   "id": "c6d4fd0c-3723-473f-80fb-c9cd12346157",
   "metadata": {},
   "outputs": [],
   "source": [
    "# When orient==1, ICESat-2 is forward and the Right beams are strong\n",
    "# Check if gt3r is the output of which_beam(f,orient,'strong')\n",
    "is2_gt3r"
   ]
  },
  {
   "cell_type": "code",
   "execution_count": null,
   "id": "f0e33827-f461-4f17-bc0b-b2edff4ec8ea",
   "metadata": {},
   "outputs": [],
   "source": []
  }
 ],
 "metadata": {
  "kernelspec": {
   "display_name": "Python 3 (ipykernel)",
   "language": "python",
   "name": "python3"
  },
  "language_info": {
   "codemirror_mode": {
    "name": "ipython",
    "version": 3
   },
   "file_extension": ".py",
   "mimetype": "text/x-python",
   "name": "python",
   "nbconvert_exporter": "python",
   "pygments_lexer": "ipython3",
   "version": "3.9.10"
  }
 },
 "nbformat": 4,
 "nbformat_minor": 5
}
