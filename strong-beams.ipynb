{
 "cells": [
  {
   "cell_type": "markdown",
   "id": "879766a9-70fc-455d-8d80-3b4d46298022",
   "metadata": {},
   "source": [
    "ICESat-2 orientation can be: backward, forward, and transition. During transition, ICESat-2 is maneuvering between the two orientations. Science quality is potentially degraded while in transition mode. (Source: https://nsidc.org/sites/nsidc.org/files/technical-references/ICESat2_ATL03_data_dict_v005.pdf)\n"
   ]
  },
  {
   "cell_type": "markdown",
   "id": "bffa1df3-38f0-4296-8f54-67e8bf660efd",
   "metadata": {},
   "source": [
    "The parameter \"/orbit_info/sc_orient\" in ATL03 denotes the orientation of ICESat-2.\n",
    "\n",
    "0 = backward\n",
    "\n",
    "1 = forward\n",
    "\n",
    "2 = transition"
   ]
  },
  {
   "cell_type": "code",
   "execution_count": null,
   "id": "769024d5-5a3d-4f5c-bd85-538b8e570612",
   "metadata": {},
   "outputs": [],
   "source": []
  },
  {
   "cell_type": "markdown",
   "id": "a4fbfd3d-3a29-480e-8fdb-92cf38f103c5",
   "metadata": {},
   "source": [
    "User input: \"strong\" or \"weak\""
   ]
  },
  {
   "cell_type": "code",
   "execution_count": null,
   "id": "28be40d5-692f-4576-967e-e449562e7528",
   "metadata": {},
   "outputs": [],
   "source": []
  },
  {
   "cell_type": "markdown",
   "id": "96b00683-310d-4732-94c7-5339e8a260ff",
   "metadata": {},
   "source": [
    "Script reads the variable \"/orbit_info/sc_orient\" to determine orientation."
   ]
  },
  {
   "cell_type": "code",
   "execution_count": null,
   "id": "5bd68234-9703-430f-b9f4-1b9548cc169f",
   "metadata": {},
   "outputs": [],
   "source": []
  },
  {
   "cell_type": "code",
   "execution_count": null,
   "id": "0eff3590-5796-4949-9561-59a0c6fd5fb9",
   "metadata": {},
   "outputs": [],
   "source": []
  },
  {
   "cell_type": "code",
   "execution_count": 7,
   "id": "ad524485-b3bd-4f5c-b3df-58cb6555d661",
   "metadata": {},
   "outputs": [],
   "source": [
    "import h5py\n",
    "import pandas as pd"
   ]
  },
  {
   "cell_type": "code",
   "execution_count": null,
   "id": "5cdbf181-6e38-4992-ae1e-0efa7f548ce9",
   "metadata": {},
   "outputs": [],
   "source": [
    "# If input = \"strong\":\n",
    "#     If sc_orient = 0:\n",
    "#         subset gt1l, gt2l, gt3l\n",
    "#     elif sc_orient = 1:\n",
    "#         subset gt1r, gt2r, gt3r\n",
    "#     else:\n",
    "#         print(\"Error: transition phase\"), or other output?"
   ]
  },
  {
   "cell_type": "code",
   "execution_count": null,
   "id": "750a9ff0-220c-4e7d-a059-e6872313fffd",
   "metadata": {},
   "outputs": [],
   "source": [
    "def get_strong_beams:\n",
    "    if sc_orient = 0:\n",
    "        # subset gt1l, gt2l, gt3l\n",
    "    elif: sc_orient = 1:\n",
    "        # subset gt1r, gt2r, gt3r\n",
    "    else:\n",
    "        print(\"Error: transition phase\") # or other output?"
   ]
  },
  {
   "cell_type": "code",
   "execution_count": null,
   "id": "c95a2995-c5a2-496f-93b3-a44ad188d75e",
   "metadata": {},
   "outputs": [],
   "source": [
    "# If input = \"weak\":\n",
    "#     If sc_orient = 0:\n",
    "#         subset gt1r, gt2r, gt3r\n",
    "#     elif sc_orient = 1:\n",
    "#         subset gt1l, gt2l, gt3l\n",
    "#     else:\n",
    "#         print(\"Error: transition phase\"), or other output?"
   ]
  },
  {
   "cell_type": "code",
   "execution_count": null,
   "id": "df5057ba-3f8f-409b-85bd-1e3f7b24f753",
   "metadata": {},
   "outputs": [],
   "source": [
    "def get_weak_beams:\n",
    "    if sc_orient = 0:\n",
    "        # subset gt1r, gt2r, gt3r\n",
    "    elif sc_orient = 1:\n",
    "        # subset gt1l, gt2l, gt3l\n",
    "    else:\n",
    "        print(\"Error: transition phase\") # or other output?\n"
   ]
  },
  {
   "cell_type": "code",
   "execution_count": null,
   "id": "6cb0ff69-8ea6-49b9-b22f-67effe6a7a23",
   "metadata": {},
   "outputs": [],
   "source": []
  },
  {
   "cell_type": "code",
   "execution_count": null,
   "id": "09969e25-8bad-46c1-9e82-3d8aee744e1f",
   "metadata": {},
   "outputs": [],
   "source": []
  },
  {
   "cell_type": "code",
   "execution_count": 20,
   "id": "7f02b1c0-5afb-455d-a500-789911d6d4f8",
   "metadata": {},
   "outputs": [
    {
     "ename": "KeyError",
     "evalue": "'Unable to open object (component not found)'",
     "output_type": "error",
     "traceback": [
      "\u001b[0;31m---------------------------------------------------------------------------\u001b[0m",
      "\u001b[0;31mKeyError\u001b[0m                                  Traceback (most recent call last)",
      "Input \u001b[0;32mIn [20]\u001b[0m, in \u001b[0;36m<cell line: 2>\u001b[0;34m()\u001b[0m\n\u001b[1;32m      1\u001b[0m is2_file \u001b[38;5;241m=\u001b[39m \u001b[38;5;124m'\u001b[39m\u001b[38;5;124mprocessed_ATL07-01_20210223050453_09351001_005_01.h5\u001b[39m\u001b[38;5;124m'\u001b[39m\n\u001b[1;32m      2\u001b[0m \u001b[38;5;28;01mwith\u001b[39;00m h5py\u001b[38;5;241m.\u001b[39mFile(is2_file, \u001b[38;5;124m'\u001b[39m\u001b[38;5;124mr\u001b[39m\u001b[38;5;124m'\u001b[39m) \u001b[38;5;28;01mas\u001b[39;00m f:\n\u001b[0;32m----> 3\u001b[0m     is2_gt2r \u001b[38;5;241m=\u001b[39m pd\u001b[38;5;241m.\u001b[39mDataFrame(data\u001b[38;5;241m=\u001b[39m{\u001b[38;5;124m'\u001b[39m\u001b[38;5;124mlat\u001b[39m\u001b[38;5;124m'\u001b[39m: \u001b[43mf\u001b[49m\u001b[43m[\u001b[49m\u001b[38;5;124;43m'\u001b[39;49m\u001b[38;5;124;43mgt2r/sea_ice_segments/latitude\u001b[39;49m\u001b[38;5;124;43m'\u001b[39;49m\u001b[43m]\u001b[49m[:],\n\u001b[1;32m      4\u001b[0m                                   \u001b[38;5;124m'\u001b[39m\u001b[38;5;124mlon\u001b[39m\u001b[38;5;124m'\u001b[39m: f[\u001b[38;5;124m'\u001b[39m\u001b[38;5;124mgt2r/sea_ice_segments/longitude\u001b[39m\u001b[38;5;124m'\u001b[39m][:],\n\u001b[1;32m      5\u001b[0m                                   \u001b[38;5;124m'\u001b[39m\u001b[38;5;124melev\u001b[39m\u001b[38;5;124m'\u001b[39m: f[\u001b[38;5;124m'\u001b[39m\u001b[38;5;124mgt2r/sea_ice_segments/heights/height_segment_height\u001b[39m\u001b[38;5;124m'\u001b[39m][:]\n\u001b[1;32m      6\u001b[0m                                  }\n\u001b[1;32m      7\u001b[0m                            )\n",
      "File \u001b[0;32mh5py/_objects.pyx:54\u001b[0m, in \u001b[0;36mh5py._objects.with_phil.wrapper\u001b[0;34m()\u001b[0m\n",
      "File \u001b[0;32mh5py/_objects.pyx:55\u001b[0m, in \u001b[0;36mh5py._objects.with_phil.wrapper\u001b[0;34m()\u001b[0m\n",
      "File \u001b[0;32m/srv/conda/envs/notebook/lib/python3.9/site-packages/h5py/_hl/group.py:305\u001b[0m, in \u001b[0;36mGroup.__getitem__\u001b[0;34m(self, name)\u001b[0m\n\u001b[1;32m    303\u001b[0m         \u001b[38;5;28;01mraise\u001b[39;00m \u001b[38;5;167;01mValueError\u001b[39;00m(\u001b[38;5;124m\"\u001b[39m\u001b[38;5;124mInvalid HDF5 object reference\u001b[39m\u001b[38;5;124m\"\u001b[39m)\n\u001b[1;32m    304\u001b[0m \u001b[38;5;28;01melif\u001b[39;00m \u001b[38;5;28misinstance\u001b[39m(name, (\u001b[38;5;28mbytes\u001b[39m, \u001b[38;5;28mstr\u001b[39m)):\n\u001b[0;32m--> 305\u001b[0m     oid \u001b[38;5;241m=\u001b[39m \u001b[43mh5o\u001b[49m\u001b[38;5;241;43m.\u001b[39;49m\u001b[43mopen\u001b[49m\u001b[43m(\u001b[49m\u001b[38;5;28;43mself\u001b[39;49m\u001b[38;5;241;43m.\u001b[39;49m\u001b[43mid\u001b[49m\u001b[43m,\u001b[49m\u001b[43m \u001b[49m\u001b[38;5;28;43mself\u001b[39;49m\u001b[38;5;241;43m.\u001b[39;49m\u001b[43m_e\u001b[49m\u001b[43m(\u001b[49m\u001b[43mname\u001b[49m\u001b[43m)\u001b[49m\u001b[43m,\u001b[49m\u001b[43m \u001b[49m\u001b[43mlapl\u001b[49m\u001b[38;5;241;43m=\u001b[39;49m\u001b[38;5;28;43mself\u001b[39;49m\u001b[38;5;241;43m.\u001b[39;49m\u001b[43m_lapl\u001b[49m\u001b[43m)\u001b[49m\n\u001b[1;32m    306\u001b[0m \u001b[38;5;28;01melse\u001b[39;00m:\n\u001b[1;32m    307\u001b[0m     \u001b[38;5;28;01mraise\u001b[39;00m \u001b[38;5;167;01mTypeError\u001b[39;00m(\u001b[38;5;124m\"\u001b[39m\u001b[38;5;124mAccessing a group is done with bytes or str, \u001b[39m\u001b[38;5;124m\"\u001b[39m\n\u001b[1;32m    308\u001b[0m                     \u001b[38;5;124m\"\u001b[39m\u001b[38;5;124m not \u001b[39m\u001b[38;5;132;01m{}\u001b[39;00m\u001b[38;5;124m\"\u001b[39m\u001b[38;5;241m.\u001b[39mformat(\u001b[38;5;28mtype\u001b[39m(name)))\n",
      "File \u001b[0;32mh5py/_objects.pyx:54\u001b[0m, in \u001b[0;36mh5py._objects.with_phil.wrapper\u001b[0;34m()\u001b[0m\n",
      "File \u001b[0;32mh5py/_objects.pyx:55\u001b[0m, in \u001b[0;36mh5py._objects.with_phil.wrapper\u001b[0;34m()\u001b[0m\n",
      "File \u001b[0;32mh5py/h5o.pyx:190\u001b[0m, in \u001b[0;36mh5py.h5o.open\u001b[0;34m()\u001b[0m\n",
      "\u001b[0;31mKeyError\u001b[0m: 'Unable to open object (component not found)'"
     ]
    }
   ],
   "source": [
    "is2_file = 'processed_ATL07-01_20210223050453_09351001_005_01.h5'\n",
    "with h5py.File(is2_file, 'r') as f:\n",
    "    is2_gt2r = pd.DataFrame(data={'lat': f['gt2r/sea_ice_segments/latitude'][:],\n",
    "                                  'lon': f['gt2r/sea_ice_segments/longitude'][:],\n",
    "                                  'elev': f['gt2r/sea_ice_segments/heights/height_segment_height'][:]\n",
    "                                 }\n",
    "                           ) # Central weak beam\n",
    "    # is2_gt2l = pd.DataFrame(data={'lat': f['gt2l/sea_ice_segments/latitude'][:],\n",
    "    #                               'lon': f['gt2l/sea_ice_segments/longitude'][:],\n",
    "    #                               'elev': f['gt2l/sea_ice_segments/heights/height_segment_height'][:]\n",
    "    #                              }\n",
    "    #                        ) # Central strong beam\n",
    "    # orient = pd.DataFrame(data={'lat': f['gt2r/sea_ice_segments/latitude'][:],\n",
    "    #                             'lon': f['gt2r/sea_ice_segments/longitude'][:],\n",
    "    #                             'orient': f['orbit_info/sc_orient'][:]\n",
    "    #                            }\n",
    "    #                      )"
   ]
  },
  {
   "cell_type": "code",
   "execution_count": null,
   "id": "37ccbf56-772c-4dd3-85ee-0ca99164994b",
   "metadata": {},
   "outputs": [
    {
     "data": {
      "text/html": [
       "<div>\n",
       "<style scoped>\n",
       "    .dataframe tbody tr th:only-of-type {\n",
       "        vertical-align: middle;\n",
       "    }\n",
       "\n",
       "    .dataframe tbody tr th {\n",
       "        vertical-align: top;\n",
       "    }\n",
       "\n",
       "    .dataframe thead th {\n",
       "        text-align: right;\n",
       "    }\n",
       "</style>\n",
       "<table border=\"1\" class=\"dataframe\">\n",
       "  <thead>\n",
       "    <tr style=\"text-align: right;\">\n",
       "      <th></th>\n",
       "      <th>orient</th>\n",
       "    </tr>\n",
       "  </thead>\n",
       "  <tbody>\n",
       "    <tr>\n",
       "      <th>0</th>\n",
       "      <td>1</td>\n",
       "    </tr>\n",
       "  </tbody>\n",
       "</table>\n",
       "</div>"
      ],
      "text/plain": [
       "   orient\n",
       "0       1"
      ]
     },
     "execution_count": 15,
     "metadata": {},
     "output_type": "execute_result"
    }
   ],
   "source": []
  }
 ],
 "metadata": {
  "kernelspec": {
   "display_name": "Python 3 (ipykernel)",
   "language": "python",
   "name": "python3"
  },
  "language_info": {
   "codemirror_mode": {
    "name": "ipython",
    "version": 3
   },
   "file_extension": ".py",
   "mimetype": "text/x-python",
   "name": "python",
   "nbconvert_exporter": "python",
   "pygments_lexer": "ipython3",
   "version": "3.9.10"
  }
 },
 "nbformat": 4,
 "nbformat_minor": 5
}
