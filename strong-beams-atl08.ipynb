{
 "cells": [
  {
   "cell_type": "markdown",
   "id": "879766a9-70fc-455d-8d80-3b4d46298022",
   "metadata": {},
   "source": [
    "ICESat-2 orientation can be: backward, forward, and transition. During transition, ICESat-2 is maneuvering between the two orientations. Science quality is potentially degraded while in transition mode. (Source: https://nsidc.org/sites/nsidc.org/files/technical-references/ICESat2_ATL03_data_dict_v005.pdf)\n"
   ]
  },
  {
   "cell_type": "markdown",
   "id": "bffa1df3-38f0-4296-8f54-67e8bf660efd",
   "metadata": {},
   "source": [
    "The parameter \"/orbit_info/sc_orient\" in ATL03 denotes the orientation of ICESat-2.\n",
    "\n",
    "0 = backward\n",
    "\n",
    "1 = forward\n",
    "\n",
    "2 = transition"
   ]
  },
  {
   "cell_type": "code",
   "execution_count": 1,
   "id": "769024d5-5a3d-4f5c-bd85-538b8e570612",
   "metadata": {},
   "outputs": [],
   "source": [
    "import h5py\n",
    "import pandas as pd"
   ]
  },
  {
   "cell_type": "markdown",
   "id": "96b00683-310d-4732-94c7-5339e8a260ff",
   "metadata": {},
   "source": [
    "Script reads the variable \"/orbit_info/sc_orient\" to determine orientation."
   ]
  },
  {
   "cell_type": "code",
   "execution_count": 2,
   "id": "750a9ff0-220c-4e7d-a059-e6872313fffd",
   "metadata": {},
   "outputs": [],
   "source": [
    "def subsetBeamsv2(f, strength):\n",
    "    '''Subsets either strong or weak beams in ATL03 from a h5py dataset'''\n",
    "    orientation = f['orbit_info']['sc_orient'][0] ## Extract the orientation\n",
    "    if strength == 'strong':\n",
    "        if orientation == 0:\n",
    "            strong_left = pd.DataFrame(data={'lat': f['gt1l/land_segments/latitude'][:],\n",
    "                                            'lon': f['gt1l/land_segments/longitude'][:],\n",
    "                                            'ch': f['gt1l/land_segments/canopy/h_canopy'][:]})\n",
    "            \n",
    "            strong_central = pd.DataFrame(data={'lat': f['gt2l/land_segments/latitude'][:],\n",
    "                                            'lon': f['gt2l/land_segments/longitude'][:],\n",
    "                                            'ch': f['gt2l/land_segments/canopy/h_canopy'][:]})\n",
    "            \n",
    "            strong_right = pd.DataFrame(data={'lat': f['gt3l/land_segments/latitude'][:],\n",
    "                                            'lon': f['gt3l/land_segments/longitude'][:],\n",
    "                                            'ch': f['gt3l/land_segments/canopy/h_canopy'][:]})\n",
    "            \n",
    "        elif orientation == 1:\n",
    "            strong_left = pd.DataFrame(data={'lat': f['gt1r/land_segments/latitude'][:],\n",
    "                                            'lon': f['gt1r/land_segments/longitude'][:],\n",
    "                                            'ch': f['gt1r/land_segments/canopy/h_canopy'][:]})\n",
    "            \n",
    "            strong_central = pd.DataFrame(data={'lat': f['gt2r/land_segments/latitude'][:],\n",
    "                                            'lon': f['gt2r/land_segments/longitude'][:],\n",
    "                                            'ch': f['gt2r/land_segments/canopy/h_canopy'][:]})\n",
    "            \n",
    "            strong_right = pd.DataFrame(data={'lat': f['gt3r/land_segments/latitude'][:],\n",
    "                                            'lon': f['gt3r/land_segments/longitude'][:],\n",
    "                                            'ch': f['gt3r/land_segments/canopy/h_canopy'][:]})\n",
    "            \n",
    "        else:\n",
    "            print('Error: invalid strength input')\n",
    "            \n",
    "        return strong_left, strong_central, strong_right"
   ]
  },
  {
   "cell_type": "code",
   "execution_count": 5,
   "id": "d8d7da6b-4bc9-4fdf-8d1a-63f30691820d",
   "metadata": {},
   "outputs": [],
   "source": [
    "import icepyx as ipx\n",
    "\n",
    "short_name = 'ATL08'\n",
    "\n",
    "rgts = ['0698']\n",
    "spatial_extent = [-94, 46.5, -84, 49.5]\n",
    "date_range = ['2021-11-07', '2021-11-07']\n",
    "\n",
    "region = ipx.Query(short_name, spatial_extent, date_range, tracks=rgts)\n",
    "#region.avail_granules(ids=True)"
   ]
  },
  {
   "cell_type": "code",
   "execution_count": 7,
   "id": "e3582a2f-0383-4f21-a18e-c45918f81c64",
   "metadata": {},
   "outputs": [
    {
     "name": "stdout",
     "output_type": "stream",
     "text": [
      "Total number of data order requests is  1  for  1  granules.\n",
      "Data request  1  of  1  is submitting to NSIDC\n",
      "order ID:  5000002860924\n",
      "Initial status of your order request at NSIDC is:  processing\n",
      "Your order status is still  processing  at NSIDC. Please continue waiting... this may take a few moments.\n",
      "Your order is: complete\n"
     ]
    }
   ],
   "source": [
    "uid = 'zhfair'\n",
    "email = 'zhfair@umich.edu'\n",
    "region.earthdata_login(uid, email)\n",
    "\n",
    "region.order_granules()"
   ]
  },
  {
   "cell_type": "code",
   "execution_count": 9,
   "id": "6fb8c104-e301-47b0-bf80-ff9d7ed25387",
   "metadata": {},
   "outputs": [
    {
     "name": "stdout",
     "output_type": "stream",
     "text": [
      "Beginning download of zipped output...\n",
      "Data request 5000002860924 of  1  order(s) is downloaded.\n",
      "Download complete\n"
     ]
    }
   ],
   "source": [
    "path = 'strong-beams/'\n",
    "region.download_granules(path)"
   ]
  },
  {
   "cell_type": "code",
   "execution_count": 10,
   "id": "2163a08c",
   "metadata": {},
   "outputs": [],
   "source": [
    "# Read the ATL08 file, and extract the strong beam data\n",
    "f = h5py.File('strong-beams/processed_ATL08_20211107040925_06981306_005_01.h5', 'r')\n",
    "\n",
    "strong_left,strong_central,strong_right = subsetBeamsv2(f, 'strong')"
   ]
  },
  {
   "cell_type": "code",
   "execution_count": 16,
   "id": "22017fb2",
   "metadata": {},
   "outputs": [
    {
     "data": {
      "application/vnd.jupyter.widget-view+json": {
       "model_id": "2709925b64bb4290a727766540a8fa05",
       "version_major": 2,
       "version_minor": 0
      },
      "text/plain": [
       "Map(center=[47.995556, -89.35192], controls=(ZoomControl(options=['position', 'zoom_in_text', 'zoom_in_title',…"
      ]
     },
     "metadata": {},
     "output_type": "display_data"
    }
   ],
   "source": [
    "# Subset the data to the Michigan UP\n",
    "strong_left = strong_left[(strong_left['lat']>47) & (strong_left['lat'].values<49)]\n",
    "strong_central = strong_central[(strong_central['lat']>47) & (strong_central['lat']<49)]\n",
    "strong_right = strong_right[(strong_right['lat']>47) & (strong_right['lat']<49)]\n",
    "\n",
    "\n",
    "# Plot a map of the region\n",
    "# Set up a map with the flight tracks as overlays\n",
    "from ipyleaflet import Map, basemaps, basemap_to_tiles, Polyline\n",
    "\n",
    "m = Map(\n",
    "    basemap=basemap_to_tiles(basemaps.Esri.WorldImagery),\n",
    "    center=(strong_central['lat'].mean(), strong_central['lon'].mean()),\n",
    "    zoom=8\n",
    ")\n",
    "\n",
    "left_line = Polyline(\n",
    "    locations=[\n",
    "        [strong_left['lat'].min(), strong_left['lon'].min()],\n",
    "        [strong_left['lat'].max(), strong_left['lon'].max()]\n",
    "    ],\n",
    "    color=\"green\" ,\n",
    "    fill=False\n",
    ")\n",
    "m.add_layer(left_line)\n",
    "\n",
    "central_line = Polyline(\n",
    "    locations=[\n",
    "        [strong_central['lat'].min(), strong_central['lon'].min()],\n",
    "        [strong_central['lat'].max(), strong_central['lon'].max()]\n",
    "    ],\n",
    "    color=\"green\" ,\n",
    "    fill=False\n",
    ")\n",
    "m.add_layer(central_line)\n",
    "\n",
    "right_line = Polyline(\n",
    "    locations=[\n",
    "        [strong_right['lat'].min(), strong_right['lon'].min()],\n",
    "        [strong_right['lat'].max(), strong_right['lon'].max()]\n",
    "    ],\n",
    "    color=\"green\" ,\n",
    "    fill=False\n",
    ")\n",
    "m.add_layer(right_line)\n",
    "\n",
    "m"
   ]
  },
  {
   "cell_type": "code",
   "execution_count": 19,
   "id": "fa57a47c",
   "metadata": {},
   "outputs": [
    {
     "data": {
      "image/png": "[encoded data removed]",
      "text/plain": [
       "<Figure size 432x288 with 3 Axes>"
      ]
     },
     "metadata": {
      "needs_background": "light"
     },
     "output_type": "display_data"
    }
   ],
   "source": [
    "# Plot canopy height for each strong beam\n",
    "import matplotlib.pyplot as plt\n",
    "fig,axs = plt.subplots(1,3)\n",
    "axs[0].plot(strong_left['lat'][strong_left['ch']<1e38], strong_left['ch'][strong_left['ch']<1e38], '.', markersize=1)\n",
    "axs[0].set_title('Left strong beam')\n",
    "axs[1].plot(strong_central['lat'][strong_central['ch']<1e38], strong_central['ch'][strong_central['ch']<1e38], '.', markersize=1)\n",
    "axs[1].set_title('Central strong beam')\n",
    "axs[2].plot(strong_right['lat'][strong_right['ch']<1e38], strong_right['ch'][strong_right['ch']<1e38], '.', markersize=1)\n",
    "axs[2].set_title('Right strong beam')\n",
    "\n",
    "for ax in axs.flat:\n",
    "    ax.label_outer()\n",
    "plt.tight_layout()\n",
    "plt.show()"
   ]
  },
  {
   "cell_type": "code",
   "execution_count": null,
   "id": "db0574b6-cc3d-4c85-83f5-b60ee4a920ed",
   "metadata": {},
   "outputs": [],
   "source": []
  }
 ],
 "metadata": {
  "kernelspec": {
   "display_name": "Python 3 (ipykernel)",
   "language": "python",
   "name": "python3"
  },
  "language_info": {
   "codemirror_mode": {
    "name": "ipython",
    "version": 3
   },
   "file_extension": ".py",
   "mimetype": "text/x-python",
   "name": "python",
   "nbconvert_exporter": "python",
   "pygments_lexer": "ipython3",
   "version": "3.9.10"
  }
 },
 "nbformat": 4,
 "nbformat_minor": 5
}
