{
 "cells": [
  {
   "cell_type": "markdown",
   "id": "a7d67141-c4e2-4737-be11-09879cdbd851",
   "metadata": {},
   "source": [
    "Eric's attempt"
   ]
  },
  {
   "cell_type": "code",
   "execution_count": 1,
   "id": "2c30ce4d-4d24-4076-8a1e-adf0a272291c",
   "metadata": {},
   "outputs": [],
   "source": [
    "# Imports\n",
    "import icepyx as ipx\n",
    "import s3fs\n",
    "import h5py\n",
    "import numpy as np"
   ]
  },
  {
   "cell_type": "markdown",
   "id": "6f682696-e753-4cd8-a466-340950b54f3a",
   "metadata": {},
   "source": [
    "**Cloud Accessed ATL03 data from icepyx docs**"
   ]
  },
  {
   "cell_type": "code",
   "execution_count": 2,
   "id": "7ab21ad1-6449-404b-b67d-f0cdbaf900c4",
   "metadata": {},
   "outputs": [],
   "source": [
    "# bounding box\n",
    "# \"producerGranuleId\": \"ATL03_20191130221008_09930503_004_01.h5\",\n",
    "short_name = 'ATL03'\n",
    "spatial_extent = [-45, 58, -35, 75]\n",
    "date_range = ['2019-11-30','2019-11-30']\n",
    "reg=ipx.Query(short_name, spatial_extent, date_range)"
   ]
  },
  {
   "cell_type": "code",
   "execution_count": 3,
   "id": "b631eeb5-4b65-403d-9029-fcb3da3a6a34",
   "metadata": {},
   "outputs": [
    {
     "name": "stderr",
     "output_type": "stream",
     "text": [
      "C:\\Users\\zfair\\Anaconda3\\lib\\site-packages\\icepyx\\core\\granules.py:135: UserWarning: You MUST be pre-authenticated by NSIDC as a beta tester to have cloud access to ICESat-2 data\n",
      "  warnings.warn(\n"
     ]
    },
    {
     "data": {
      "text/plain": [
       "[['ATL03_20191130112041_09860505_005_01.h5',\n",
       "  'ATL03_20191130112606_09860506_005_01.h5',\n",
       "  'ATL03_20191130220138_09930502_005_01.h5',\n",
       "  'ATL03_20191130221008_09930503_005_01.h5'],\n",
       " ['s3://nsidc-cumulus-prod-protected/ATLAS/ATL03/005/2019/11/30/ATL03_20191130112041_09860505_005_01.h5',\n",
       "  's3://nsidc-cumulus-prod-protected/ATLAS/ATL03/005/2019/11/30/ATL03_20191130112606_09860506_005_01.h5',\n",
       "  's3://nsidc-cumulus-prod-protected/ATLAS/ATL03/005/2019/11/30/ATL03_20191130220138_09930502_005_01.h5',\n",
       "  's3://nsidc-cumulus-prod-protected/ATLAS/ATL03/005/2019/11/30/ATL03_20191130221008_09930503_005_01.h5']]"
      ]
     },
     "execution_count": 3,
     "metadata": {},
     "output_type": "execute_result"
    }
   ],
   "source": [
    "gran_ids = reg.avail_granules(ids=True, s3urls=True)\n",
    "gran_ids"
   ]
  },
  {
   "cell_type": "code",
   "execution_count": 5,
   "id": "b69ec0ee-fbc1-407a-a5b9-654e802bacc5",
   "metadata": {},
   "outputs": [
    {
     "ename": "AssertionError",
     "evalue": "You must be working from a valid AWS instance to use s3 data access",
     "output_type": "error",
     "traceback": [
      "\u001b[1;31m---------------------------------------------------------------------------\u001b[0m",
      "\u001b[1;31mAssertionError\u001b[0m                            Traceback (most recent call last)",
      "\u001b[1;32m~\\AppData\\Local\\Temp\\12/ipykernel_16324/1394036370.py\u001b[0m in \u001b[0;36m<module>\u001b[1;34m\u001b[0m\n\u001b[1;32m----> 1\u001b[1;33m \u001b[0mreg\u001b[0m\u001b[1;33m.\u001b[0m\u001b[0mearthdata_login\u001b[0m\u001b[1;33m(\u001b[0m\u001b[1;34m\"icepyx_dev\"\u001b[0m\u001b[1;33m,\u001b[0m\u001b[1;34m\"icepyx_dev@gmail.com\"\u001b[0m\u001b[1;33m,\u001b[0m \u001b[0ms3token\u001b[0m\u001b[1;33m=\u001b[0m\u001b[1;32mTrue\u001b[0m\u001b[1;33m)\u001b[0m\u001b[1;33m\u001b[0m\u001b[1;33m\u001b[0m\u001b[0m\n\u001b[0m",
      "\u001b[1;32m~\\Anaconda3\\lib\\site-packages\\icepyx\\core\\query.py\u001b[0m in \u001b[0;36mearthdata_login\u001b[1;34m(self, uid, email, s3token)\u001b[0m\n\u001b[0;32m    844\u001b[0m \u001b[1;33m\u001b[0m\u001b[0m\n\u001b[0;32m    845\u001b[0m             \u001b[1;31m# loosely check for AWS login capability without web request\u001b[0m\u001b[1;33m\u001b[0m\u001b[1;33m\u001b[0m\u001b[0m\n\u001b[1;32m--> 846\u001b[1;33m             assert (\n\u001b[0m\u001b[0;32m    847\u001b[0m                 \u001b[0mis_ec2\u001b[0m\u001b[1;33m(\u001b[0m\u001b[1;33m)\u001b[0m \u001b[1;33m==\u001b[0m \u001b[1;32mTrue\u001b[0m\u001b[1;33m\u001b[0m\u001b[1;33m\u001b[0m\u001b[0m\n\u001b[0;32m    848\u001b[0m             ), \"You must be working from a valid AWS instance to use s3 data access\"\n",
      "\u001b[1;31mAssertionError\u001b[0m: You must be working from a valid AWS instance to use s3 data access"
     ]
    }
   ],
   "source": [
    "reg.earthdata_login(\"icepyx_dev\",\"icepyx_dev@gmail.com\", s3token=True)"
   ]
  },
  {
   "cell_type": "code",
   "execution_count": 5,
   "id": "d52f9a47-7881-4422-b3aa-60acf9e5645a",
   "metadata": {},
   "outputs": [],
   "source": [
    "credentials = reg._s3login_credentials"
   ]
  },
  {
   "cell_type": "code",
   "execution_count": 6,
   "id": "8470a540-ad26-4619-8bf5-e30116ab42f0",
   "metadata": {},
   "outputs": [],
   "source": [
    "s3 = s3fs.S3FileSystem(key=credentials['accessKeyId'],\n",
    "                       secret=credentials['secretAccessKey'],\n",
    "                       token=credentials['sessionToken'])"
   ]
  },
  {
   "cell_type": "code",
   "execution_count": 7,
   "id": "b29defaf-5003-4fdc-8d10-689d1a3f59be",
   "metadata": {},
   "outputs": [],
   "source": [
    "s3url = gran_ids[1][0]"
   ]
  },
  {
   "cell_type": "code",
   "execution_count": 8,
   "id": "c7349e15-4838-4c2b-8032-474632655020",
   "metadata": {},
   "outputs": [
    {
     "name": "stdout",
     "output_type": "stream",
     "text": [
      "CPU times: user 59 ms, sys: 27.3 ms, total: 86.3 ms\n",
      "Wall time: 251 ms\n"
     ]
    },
    {
     "name": "stderr",
     "output_type": "stream",
     "text": [
      "/srv/conda/envs/notebook/lib/python3.9/asyncio/sslproto.py:320: ResourceWarning: unclosed transport <asyncio.sslproto._SSLProtocolTransport object at 0x7f11e86a3d00>\n",
      "  _warn(f\"unclosed transport {self!r}\", ResourceWarning, source=self)\n"
     ]
    }
   ],
   "source": [
    "%time f = h5py.File(s3.open(s3url,'rb'),'r')"
   ]
  },
  {
   "cell_type": "markdown",
   "id": "9c967411-cec7-4749-a7e3-79e83f9386e3",
   "metadata": {},
   "source": [
    "****First crack at a beam subset function**** This successfully extracts the orientation, however, I don't know how to actually subset the dataset based on the beam names."
   ]
  },
  {
   "cell_type": "code",
   "execution_count": null,
   "id": "60bacf0e-c099-47bb-8484-8ad2979f5cf4",
   "metadata": {},
   "outputs": [],
   "source": [
    "def subsetBeams(dataset, strength):\n",
    "    '''Subsets either strong or weak beams in ATL03 from a h5py dataset'''\n",
    "    orientation = dataset['orbit_info']['sc_orient'][0] ## Extract the orientation\n",
    "    if strength == 'strong':\n",
    "        if orientation == 0:\n",
    "            dset = dataset['gt1l', 'gt2l', 'gt3l'] ## This subset method DOES NOT WORK\n",
    "            return dset\n",
    "        elif orientation == 1:\n",
    "            dset = dataset['gt1r', 'gt2r', 'gt3r']\n",
    "            return dset\n",
    "        else:\n",
    "            print(\"Error: transition phase\")\n",
    "    elif strength == 'weak':\n",
    "        if orientation == 0:\n",
    "            dset = dataset['gt1r', 'gt2r', 'gt3r']\n",
    "            return dset\n",
    "        elif orientation == 1:\n",
    "            dset = dataset['gt1l', 'gt2l', 'gt3l']\n",
    "            return dset\n",
    "        else:\n",
    "            print(\"Error: transition phase\")\n",
    "    else:\n",
    "        print(\"Error: invalid strength input\")"
   ]
  },
  {
   "cell_type": "code",
   "execution_count": 21,
   "id": "86dbecd7-5586-45a9-9043-b0eaa43ffb6a",
   "metadata": {},
   "outputs": [],
   "source": [
    "def subsetBeamsv2(f, strength):\n",
    "    '''Subsets either strong or weak beams in ATL03 from a h5py dataset'''\n",
    "    orientation = f['orbit_info']['sc_orient'][0] ## Extract the orientation\n",
    "    if strength == 'strong':\n",
    "        if orientation == 0:\n",
    "            strong_left = pd.DataFrame(data={'lat': f['gt1l/heights/lat_ph'][:],\n",
    "                                            'lon': f['gt1l/heights/lon_ph'][:],\n",
    "                                            'elev': f['gt1l/heights/h_ph'][:]})\n",
    "            \n",
    "            strong_central = pd.DataFrame(data={'lat': f['gt2l/heights/lat_ph'][:],\n",
    "                                                'lon': f['gt2l/heights/lon_ph'][:],\n",
    "                                                'elev': f['gt2l/heights/h_ph'][:]})\n",
    "            \n",
    "            strong_right = pd.DataFrame(data={'lat': f['gt3l/heights/lat_ph'][:],\n",
    "                                            'lon': f['gt3l/heights/lon_ph'][:],\n",
    "                                            'elev': f['gt3l/heights/h_ph'][:]})\n",
    "            \n",
    "        elif orientation == 1:\n",
    "            strong_left = pd.DataFrame(data={'lat': f['gt1r/heights/lat_ph'][:],\n",
    "                                            'lon': f['gt1r/heights/lon_ph'][:],\n",
    "                                            'elev': f['gt1r/heights/h_ph'][:]})\n",
    "            \n",
    "            strong_central = pd.DataFrame(data={'lat': f['gt2r/heights/lat_ph'][:],\n",
    "                                            'lon': f['gt2r/heights/lon_ph'][:],\n",
    "                                            'elev': f['gt2r/heights/h_ph'][:]})\n",
    "            \n",
    "            strong_right = pd.DataFrame(data={'lat': f['gt3r/heights/lat_ph'][:],\n",
    "                                            'lon': f['gt3r/heights/lon_ph'][:],\n",
    "                                            'elev': f['gt3r/heights/h_ph'][:]})\n",
    "            \n",
    "        else:\n",
    "            print('Error: invalid strength input')\n",
    "            \n",
    "        return strong_left, strong_central, strong_right"
   ]
  },
  {
   "cell_type": "code",
   "execution_count": 22,
   "id": "e9ee356b",
   "metadata": {},
   "outputs": [],
   "source": [
    "f = h5py.File('C:/Users/zfair/OneDrive - NASA/Documents/Python/icesat2-snow/Data/is2/processed_ATL03_20190904170648_10480405_004_01.h5', 'r')\n",
    "\n",
    "strong_left,strong_central,strong_right = subsetBeamsv2(f, 'strong')"
   ]
  },
  {
   "cell_type": "code",
   "execution_count": 23,
   "id": "ade43b4d",
   "metadata": {},
   "outputs": [
    {
     "data": {
      "image/png": "[encoded data removed]",
      "text/plain": [
       "<Figure size 432x288 with 1 Axes>"
      ]
     },
     "metadata": {
      "needs_background": "light"
     },
     "output_type": "display_data"
    }
   ],
   "source": [
    "plt.plot(strong_left['lat'], strong_left['elev'], '.', markersize=0.2)\n",
    "plt.show()"
   ]
  },
  {
   "cell_type": "code",
   "execution_count": null,
   "id": "cdf6c48b",
   "metadata": {},
   "outputs": [],
   "source": []
  }
 ],
 "metadata": {
  "kernelspec": {
   "display_name": "Python 3 (ipykernel)",
   "language": "python",
   "name": "python3"
  },
  "language_info": {
   "codemirror_mode": {
    "name": "ipython",
    "version": 3
   },
   "file_extension": ".py",
   "mimetype": "text/x-python",
   "name": "python",
   "nbconvert_exporter": "python",
   "pygments_lexer": "ipython3",
   "version": "3.9.7"
  }
 },
 "nbformat": 4,
 "nbformat_minor": 5
}
